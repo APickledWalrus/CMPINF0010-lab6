{
 "cells": [
  {
   "cell_type": "markdown",
   "metadata": {},
   "source": [
    "## Our Program...\n",
    "link to repo: https://github.com/APickledWalrus/CMPINF0010-lab6.git"
   ]
  },
  {
   "cell_type": "code",
   "execution_count": 7,
   "metadata": {},
   "outputs": [
    {
     "name": "stdin",
     "output_type": "stream",
     "text": [
      "Please enter your name:  Isabel\n",
      "Now, enter your age:  19\n"
     ]
    },
    {
     "name": "stdout",
     "output_type": "stream",
     "text": [
      "Hello, Isabel! I hope you reach 20!\n"
     ]
    }
   ],
   "source": [
    "# Get user input\n",
    "name = input(\"Please enter your name: \")\n",
    "age = input(\"Now, enter your age: \")\n",
    "# probably need to check if age is an int\n",
    "age = int(age)\n",
    "nextAge = str(age + 1)\n",
    "output = \"Hello, \" + name + \"! \" + \"I hope you reach \" + nextAge + \"!\"\n",
    "print(output)"
   ]
  },
  {
   "cell_type": "code",
   "execution_count": null,
   "metadata": {},
   "outputs": [],
   "source": []
  }
 ],
 "metadata": {
  "kernelspec": {
   "display_name": "Python 3",
   "language": "python",
   "name": "python3"
  },
  "language_info": {
   "codemirror_mode": {
    "name": "ipython",
    "version": 3
   },
   "file_extension": ".py",
   "mimetype": "text/x-python",
   "name": "python",
   "nbconvert_exporter": "python",
   "pygments_lexer": "ipython3",
   "version": "3.8.3"
  }
 },
 "nbformat": 4,
 "nbformat_minor": 4
}
