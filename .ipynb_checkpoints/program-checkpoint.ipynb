{
 "cells": [
  {
   "cell_type": "markdown",
   "metadata": {},
   "source": [
    "## Our Program...\n",
    "link to repo: https://github.com/APickledWalrus/CMPINF0010-lab6"
   ]
  },
  {
   "cell_type": "code",
   "execution_count": 7,
   "metadata": {},
   "outputs": [
    {
     "name": "stdin",
     "output_type": "stream",
     "text": [
      "Please enter your name:  Isabel\n",
      "Now, enter your age:  -16\n"
     ]
    },
    {
     "name": "stdout",
     "output_type": "stream",
     "text": [
      "Please enter a positive integer (examples: 12,33,19)\n"
     ]
    },
    {
     "name": "stdin",
     "output_type": "stream",
     "text": [
      "Now, enter your age:  20\n"
     ]
    },
    {
     "name": "stdout",
     "output_type": "stream",
     "text": [
      "Hello Isabel! You are 20 years old!\n",
      "This means you can vote!\n"
     ]
    }
   ],
   "source": [
    "# Get user input\n",
    "validInput = False\n",
    "name = input(\"Please enter your name: \")\n",
    "age = input(\"Now, enter your age: \")\n",
    "\n",
    "while (validInput == False):\n",
    "    try:\n",
    "        age = int(age)\n",
    "        if (age < 0):\n",
    "            print(\"Please enter a positive integer (examples: 12,33,19)\")\n",
    "            age = input(\"Now, enter your age: \")\n",
    "        else:\n",
    "            validInput = True\n",
    "    except:\n",
    "        print(\"Please enter a positive integer (examples: 12,33,19)\")\n",
    "        age = input(\"Now, enter your age: \")\n",
    "        validInput = False\n",
    "    \n",
    "print(\"Hello \" + name + \"! You are\", age, \"years old!\")\n",
    "if age >= 18:\n",
    "    print(\"This means you can vote!\")\n",
    "else:\n",
    "    print(\"You're not old enough to vote yet!\")"
   ]
  },
  {
   "cell_type": "code",
   "execution_count": null,
   "metadata": {},
   "outputs": [],
   "source": []
  }
 ],
 "metadata": {
  "kernelspec": {
   "display_name": "Python 3",
   "language": "python",
   "name": "python3"
  },
  "language_info": {
   "codemirror_mode": {
    "name": "ipython",
    "version": 3
   },
   "file_extension": ".py",
   "mimetype": "text/x-python",
   "name": "python",
   "nbconvert_exporter": "python",
   "pygments_lexer": "ipython3",
   "version": "3.8.3"
  }
 },
 "nbformat": 4,
 "nbformat_minor": 4
}
